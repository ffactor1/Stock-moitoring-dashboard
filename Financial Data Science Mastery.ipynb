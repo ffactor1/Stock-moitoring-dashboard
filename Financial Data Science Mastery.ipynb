{
 "cells": [
  {
   "cell_type": "markdown",
   "id": "1d0a9e4b",
   "metadata": {},
   "source": [
    "## Track Stocks in Excel"
   ]
  },
  {
   "cell_type": "code",
   "execution_count": null,
   "id": "94666234",
   "metadata": {},
   "outputs": [],
   "source": [
    "#importing libraries\n",
    "import pandas as pd\n",
    "import numpy as np\n",
    "import matplotlib.pyplot as plt\n",
    "import seaborn as sns\n",
    "from datetime import datetime\n",
    "import yfinance as yf\n",
    "import os\n",
    "from pathlib import Path"
   ]
  },
  {
   "cell_type": "code",
   "execution_count": null,
   "id": "825a76d5",
   "metadata": {},
   "outputs": [],
   "source": [
    "Stock_List = ['AAPL','NVDA','SA59.SI','S58.SI']\n",
    "start_date = datetime(datetime.now().year - 1, datetime.now().month, datetime.now().day)\n",
    "end_date = datetime.now()\n",
    "\n",
    "project_folder = Path(__file__).parent / \"data\"\n",
    "\n",
    "for stock in Stock_List:\n",
    "    #fetch Data from Yahoo Finance\n",
    "    if os.path.exists(project_folder / f\"{stock}_data.csv\"):\n",
    "        df = pd.read_csv(project_folder / f\"{stock}_data.csv\", index_col=0, parse_dates=True)\n",
    "        \n",
    "    \n"
   ]
  },
  {
   "cell_type": "code",
   "execution_count": 3,
   "id": "1ae9d0f0",
   "metadata": {},
   "outputs": [
    {
     "name": "stderr",
     "output_type": "stream",
     "text": [
      "[*********************100%***********************]  1 of 1 completed"
     ]
    },
    {
     "name": "stdout",
     "output_type": "stream",
     "text": [
      "⬇️ Downloading AAPL data...\n",
      "💾 Data saved to: c:\\Users\\shenx\\OneDrive\\Documents\\GitHub\\Stock-moitoring-dashboard\\data\\AAPL_data.csv\n",
      "              AAPL    AAPL    AAPL    AAPL    AAPL      AAPL\n",
      "Date                                                        \n",
      "2025-10-06  256.69  256.69  259.07  255.05  257.99  44664100\n",
      "2025-10-07  256.48  256.48  257.40  255.43  256.81  31955800\n",
      "2025-10-08  258.06  258.06  258.52  256.11  256.52  36496900\n",
      "2025-10-09  254.04  254.04  258.00  253.14  257.81  38322000\n",
      "2025-10-10  245.27  245.27  256.38  244.00  254.94  61782400\n"
     ]
    },
    {
     "name": "stderr",
     "output_type": "stream",
     "text": [
      "\n"
     ]
    }
   ],
   "source": [
    "from datetime import datetime\n",
    "from pathlib import Path\n",
    "import yfinance as yf\n",
    "import pandas as pd\n",
    "\n",
    "# --- Settings ---\n",
    "stock = \"AAPL\"\n",
    "start_date = datetime(datetime.now().year - 1, datetime.now().month, datetime.now().day)\n",
    "end_date = datetime.now()\n",
    "\n",
    "# --- Folder setup ---\n",
    "data_folder = Path.cwd() / \"data\"\n",
    "data_folder.mkdir(exist_ok=True)\n",
    "\n",
    "# --- Download data ---\n",
    "print(f\"⬇️ Downloading {stock} data...\")\n",
    "df = yf.download(stock, start=start_date, end=end_date, auto_adjust=False)\n",
    "\n",
    "# Handle multi-index columns\n",
    "if isinstance(df.columns, pd.MultiIndex):\n",
    "    df.columns = [col[-1] for col in df.columns.values]\n",
    "\n",
    "# --- Save to CSV ---\n",
    "file_path = data_folder / f\"{stock}_data.csv\"\n",
    "df.to_csv(file_path)\n",
    "\n",
    "print(f\"💾 Data saved to: {file_path}\")\n",
    "\n",
    "# --- Show sample output ---\n",
    "print(df.tail(5).round(2))\n"
   ]
  }
 ],
 "metadata": {
  "kernelspec": {
   "display_name": "stockmonitor",
   "language": "python",
   "name": "python3"
  },
  "language_info": {
   "codemirror_mode": {
    "name": "ipython",
    "version": 3
   },
   "file_extension": ".py",
   "mimetype": "text/x-python",
   "name": "python",
   "nbconvert_exporter": "python",
   "pygments_lexer": "ipython3",
   "version": "3.12.11"
  }
 },
 "nbformat": 4,
 "nbformat_minor": 5
}
